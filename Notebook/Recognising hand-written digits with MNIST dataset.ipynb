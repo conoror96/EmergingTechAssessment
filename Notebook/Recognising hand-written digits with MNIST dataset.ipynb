{
 "cells": [
  {
   "cell_type": "markdown",
   "metadata": {},
   "source": [
    "# Training a neural Network to read the MNIST Dataset \n",
    "### Conor O'Reilly - G00338592\n",
    "\n",
    "## Imports"
   ]
  },
  {
   "cell_type": "code",
   "execution_count": 57,
   "metadata": {},
   "outputs": [],
   "source": [
    "# Adapted From https://towardsdatascience.com/image-classification-in-10-minutes-with-mnist-dataset-54c35b77a38d\n",
    "# Adapted From https://medium.com/coinmonks/handwritten-digit-prediction-using-convolutional-neural-networks-in-tensorflow-with-keras-and-live-5ebddf46dc8\n",
    "# Adapted from https://www.tensorflow.org/guide/keras/save_and_serialize\n",
    "# imports \n",
    "import tensorflow as tf\n",
    "from tensorflow import keras\n",
    "import numpy as np\n",
    "\n",
    "# import the mnist dataset from keras\n",
    "from keras.datasets import mnist\n",
    "# matplotlib used to visualise the data\n",
    "import matplotlib.pyplot as plt\n",
    "# Importing the required Keras modules containing model and layers\n",
    "from keras.models import Sequential, load_model\n",
    "from keras.layers import Dense, Conv2D, Dropout, Flatten, MaxPooling2D"
   ]
  },
  {
   "cell_type": "markdown",
   "metadata": {},
   "source": [
    "## Loading in the dataset and printing out some  data & images\n"
   ]
  },
  {
   "cell_type": "code",
   "execution_count": 58,
   "metadata": {},
   "outputs": [],
   "source": [
    "# Loading in the dataset\n",
    "# x_train is the image of number, y_train is the number the image contains\n",
    "(x_train, y_train), (x_test, y_test) = mnist.load_data()"
   ]
  },
  {
   "cell_type": "code",
   "execution_count": 59,
   "metadata": {},
   "outputs": [
    {
     "data": {
      "text/plain": [
       "(60000, 28, 28)"
      ]
     },
     "execution_count": 59,
     "metadata": {},
     "output_type": "execute_result"
    }
   ],
   "source": [
    "# (Amount of images in the dataset, Rows of pixels, Cols of pixels)\n",
    "x_train.shape"
   ]
  },
  {
   "cell_type": "code",
   "execution_count": 60,
   "metadata": {},
   "outputs": [
    {
     "name": "stdout",
     "output_type": "stream",
     "text": [
      "5\n"
     ]
    },
    {
     "data": {
      "text/plain": [
       "<matplotlib.image.AxesImage at 0x131cf44a8>"
      ]
     },
     "execution_count": 60,
     "metadata": {},
     "output_type": "execute_result"
    },
    {
     "data": {
      "image/png": "[encoded data removed]",
      "text/plain": [
       "<Figure size 432x288 with 1 Axes>"
      ]
     },
     "metadata": {
      "needs_background": "light"
     },
     "output_type": "display_data"
    }
   ],
   "source": [
    "%matplotlib inline \n",
    "image_index = 0\n",
    "print(y_train[image_index])\n",
    "# Prints out the first image as it appears in the file\n",
    "plt.imshow(x_train[image_index])"
   ]
  },
  {
   "cell_type": "code",
   "execution_count": 61,
   "metadata": {},
   "outputs": [
    {
     "data": {
      "image/png": "[encoded data removed]",
      "text/plain": [
       "<Figure size 720x720 with 9 Axes>"
      ]
     },
     "metadata": {},
     "output_type": "display_data"
    }
   ],
   "source": [
    "# Plot out the first nine images in the test set \n",
    "plt.figure(figsize=(10,10))\n",
    "for i in range(9):\n",
    "    plt.subplot(3,3,i+1)\n",
    "    plt.xticks([])\n",
    "    plt.yticks([])\n",
    "    plt.grid(False)\n",
    "    plt.imshow(x_train[i], cmap=\"gray\")\n",
    "plt.show()"
   ]
  },
  {
   "cell_type": "code",
   "execution_count": 71,
   "metadata": {},
   "outputs": [
    {
     "name": "stdout",
     "output_type": "stream",
     "text": [
      "x_train shape: (60000, 28, 28, 1)\n",
      "Number of images in x_train 60000\n",
      "Number of images in x_test 10000\n"
     ]
    }
   ],
   "source": [
    "# The input shape that the CNN expects is a 4D Array - batch, height, width, channels\n",
    "# The channels show whether the image is greyscaled or coloured\n",
    "# 1 is given because greyscaled images are being used (3 for coloured)\n",
    "x_train = x_train.reshape(x_train.shape[0], 28, 28, 1)\n",
    "x_test = x_test.reshape(x_test.shape[0], 28, 28, 1)\n",
    "# input: 28*28 pixels with 1 channel -> (28,28,1) tensors.\n",
    "input_shape = (28, 28, 1)\n",
    "\n",
    "# Type float\n",
    "x_train = x_train.astype('float32')\n",
    "x_test = x_test.astype('float32')\n",
    "\n",
    "# Normalize data\n",
    "# dataset has each pixel between 0-255, it is now 0-1\n",
    "# http://aishack.in/tutorials/normalized-rgb/\n",
    "x_train /= 255\n",
    "x_test /= 255\n",
    "\n",
    "# print outs\n",
    "print('x_train shape:', x_train.shape)\n",
    "print('Number of images in x_train', x_train.shape[0])\n",
    "print('Number of images in x_test', x_test.shape[0])"
   ]
  },
  {
   "cell_type": "markdown",
   "metadata": {},
   "source": [
    "# Creating a Sequential Model and adding the layers\n",
    "\n",
    "### Creating a sequential model\n",
    "[Keras sequential model guide](https://keras.io/getting-started/sequential-model-guide/)\n",
    "* The Sequential model is a linear stack of layers. \n",
    "* Layers are added via the add. method \n",
    "\n",
    "```python\n",
    "model = Sequential()```\n",
    "\n",
    "\n",
    "### 2D Convolution layer (e.g. spatial convolution over images)\n",
    "[Keras pooling docs](https://keras.io/layers/pooling/)\n",
    "[Keras Sequential model guide](https://keras.io/getting-started/sequential-model-guide/)\n",
    "* This layer creates a convolution kernel that is convolved with the layer input to produce a tensor of outputs\n",
    "* in the first layer, you must specify the expected input data shape\n",
    "* This applies 28 convolution filters of size 3x3 each\n",
    "\n",
    "```python\n",
    "model.add(Conv2D(28, kernel_size=(3,3), input_shape=input_shape))```\n",
    "\n",
    "\n",
    "### Max pooling operation for spatial data.\n",
    "[Keras pooling docs](https://keras.io/layers/pooling/)\n",
    "* The pool size halves the input in both spatial dimension (vertical, horizontal).\n",
    "* The numbers input to the pool size are the factors by which to downsize\n",
    "\n",
    "```python \n",
    "model.add(MaxPooling2D(pool_size=(2, 2)))```\n",
    "\n",
    "* **(None, 26, 26, 28) -> (None, 13, 13, 28)**\n",
    "\n",
    "### Flatten layer\n",
    "* Flattens the input. Does not affect the batch size.\n",
    "\n",
    "```python\n",
    "model.add(Flatten())```\n",
    "\n",
    "* **(None, 13, 13, 28) -> (None, 4732)**\n",
    "\n",
    "\n",
    "### Densely-Connected Layer.\n",
    "* Dense(128) is a fully-connected layer with 128 hidden units. \n",
    "\n",
    "```python\n",
    "model.add(Dense(128, activation=tf.nn.relu))```\n",
    "\n",
    "* **(None, 4732) * 128 -> 605824**  \n",
    "\n",
    "### Dropout Layer\n",
    "[Keras layers docs](https://keras.io/layers/core/)\n",
    "* Applies Dropout to the input.\n",
    "* Used to prevent overfitting the model by dropping a fraction rate (0.2) of inputs to 0\n",
    "\n",
    "```python\n",
    "model.add(Dropout(0.2))```\n",
    "\n",
    "### Second Dense Layer with Softmax Activation\n",
    "[](https://medium.com/@zhang_yang/number-of-parameters-in-dense-and-convolutional-neural-networks-34b54c2ec349)\n",
    "\n",
    "```python\n",
    "model.add(Dense(10,activation=tf.nn.softmax))```\n",
    "\n",
    "* **10 * (128 + 1) -> 1290**"
   ]
  },
  {
   "cell_type": "code",
   "execution_count": 63,
   "metadata": {},
   "outputs": [],
   "source": [
    "model = Sequential()\n",
    "model.add(Conv2D(28, kernel_size=(3,3), input_shape=input_shape))\n",
    "model.add(MaxPooling2D(pool_size=(2, 2)))\n",
    "model.add(Flatten())\n",
    "model.add(Dense(128, activation=tf.nn.relu))\n",
    "model.add(Dropout(0.2))\n",
    "model.add(Dense(10,activation=tf.nn.softmax))"
   ]
  },
  {
   "cell_type": "code",
   "execution_count": 64,
   "metadata": {},
   "outputs": [
    {
     "name": "stdout",
     "output_type": "stream",
     "text": [
      "Epoch 1/1\n",
      "60000/60000 [==============================] - 45s 748us/step - loss: 0.1967 - accuracy: 0.9412\n"
     ]
    },
    {
     "data": {
      "text/plain": [
       "<keras.callbacks.callbacks.History at 0x147c6aba8>"
      ]
     },
     "execution_count": 64,
     "metadata": {},
     "output_type": "execute_result"
    }
   ],
   "source": [
    "model.compile(optimizer='adam', \n",
    "              loss='sparse_categorical_crossentropy', \n",
    "              metrics=['accuracy'])\n",
    "model.fit(x=x_train,y=y_train, epochs=1)"
   ]
  },
  {
   "cell_type": "code",
   "execution_count": 65,
   "metadata": {
    "scrolled": true
   },
   "outputs": [
    {
     "name": "stdout",
     "output_type": "stream",
     "text": [
      "10000/10000 [==============================] - 3s 254us/step\n"
     ]
    },
    {
     "data": {
      "text/plain": [
       "[0.07661983152255417, 0.9771000146865845]"
      ]
     },
     "execution_count": 65,
     "metadata": {},
     "output_type": "execute_result"
    }
   ],
   "source": [
    "# Returns the loss value & metrics values for the model in test mode.\n",
    "# https://keras.io/models/model/\n",
    "model.evaluate(x_test, y_test)"
   ]
  },
  {
   "cell_type": "code",
   "execution_count": 66,
   "metadata": {
    "scrolled": true
   },
   "outputs": [
    {
     "name": "stdout",
     "output_type": "stream",
     "text": [
      "Model: \"sequential_5\"\n",
      "_________________________________________________________________\n",
      "Layer (type)                 Output Shape              Param #   \n",
      "=================================================================\n",
      "conv2d_5 (Conv2D)            (None, 26, 26, 28)        280       \n",
      "_________________________________________________________________\n",
      "max_pooling2d_5 (MaxPooling2 (None, 13, 13, 28)        0         \n",
      "_________________________________________________________________\n",
      "flatten_5 (Flatten)          (None, 4732)              0         \n",
      "_________________________________________________________________\n",
      "dense_9 (Dense)              (None, 128)               605824    \n",
      "_________________________________________________________________\n",
      "dropout_5 (Dropout)          (None, 128)               0         \n",
      "_________________________________________________________________\n",
      "dense_10 (Dense)             (None, 10)                1290      \n",
      "=================================================================\n",
      "Total params: 607,394\n",
      "Trainable params: 607,394\n",
      "Non-trainable params: 0\n",
      "_________________________________________________________________\n"
     ]
    }
   ],
   "source": [
    "model.summary()"
   ]
  },
  {
   "cell_type": "code",
   "execution_count": 67,
   "metadata": {},
   "outputs": [],
   "source": [
    "# Save predictions for future checks\n",
    "#predictions = model.predict(x_test)"
   ]
  },
  {
   "cell_type": "code",
   "execution_count": 68,
   "metadata": {},
   "outputs": [],
   "source": [
    "model_json = model.to_json()\n",
    "\n",
    "with open(\"Model/model.json\", \"w\") as json_file:\n",
    "  json_file.write(model_json)\n",
    "\n",
    "\n",
    "\n",
    "# Save the weights\n",
    "model.save('../FlaskWebApp/model.h5')"
   ]
  },
  {
   "cell_type": "code",
   "execution_count": 21,
   "metadata": {},
   "outputs": [],
   "source": [
    "#new_model = keras.models.load_model('../FlaskWebApp/model.h5')"
   ]
  },
  {
   "cell_type": "code",
   "execution_count": null,
   "metadata": {},
   "outputs": [],
   "source": [
    "#predictions = new_model.predict([x_test])\n",
    "\n",
    "# print('x_test shape', [x_test])\n",
    "\n",
    "# use numpy to help make a prediction on x_test set\n",
    "#print('At predictions index 0, number is a ', np.argmax(predictions[4]))"
   ]
  },
  {
   "cell_type": "code",
   "execution_count": null,
   "metadata": {},
   "outputs": [],
   "source": [
    "# prints out the first image in the test dataset\n",
    "#plt.imshow(x_test[4].reshape(28, 28), cmap=plt.cm.binary)"
   ]
  },
  {
   "cell_type": "code",
   "execution_count": null,
   "metadata": {},
   "outputs": [],
   "source": []
  },
  {
   "cell_type": "code",
   "execution_count": null,
   "metadata": {},
   "outputs": [],
   "source": []
  }
 ],
 "metadata": {
  "kernelspec": {
   "display_name": "Python 3",
   "language": "python",
   "name": "python3"
  },
  "language_info": {
   "codemirror_mode": {
    "name": "ipython",
    "version": 3
   },
   "file_extension": ".py",
   "mimetype": "text/x-python",
   "name": "python",
   "nbconvert_exporter": "python",
   "pygments_lexer": "ipython3",
   "version": "3.6.8"
  }
 },
 "nbformat": 4,
 "nbformat_minor": 2
}
