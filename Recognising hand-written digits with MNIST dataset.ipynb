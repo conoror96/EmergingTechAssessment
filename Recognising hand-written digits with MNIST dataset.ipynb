{
 "cells": [
  {
   "cell_type": "code",
   "execution_count": 50,
   "metadata": {},
   "outputs": [],
   "source": [
    "# imports \n",
    "import numpy as np\n",
    "import pandas as pd\n",
    "\n",
    "# matplotlib used to visualise the data\n",
    "import matplotlib.pyplot as plt\n",
    "#\n",
    "from keras.datasets import mnist\n",
    "# used to encode labels\n",
    "from keras.utils import to_categorical\n",
    "\n",
    "# sequential model to create keras model. \n",
    "from keras.models import Sequential, model_from_json\n",
    "from keras.layers import Conv2D, MaxPool2D, Dropout, Dense, Flatten\n",
    "# for data augmentation\n",
    "from keras.preprocessing.image import ImageDataGenerator\n",
    "from keras.optimizers import RMSprop\n",
    "# reduced the learning rate on plateau\n",
    "from keras.callbacks import ReduceLROnPlateau\n",
    "# to check if the model is already trained\n",
    "import os"
   ]
  },
  {
   "cell_type": "code",
   "execution_count": 51,
   "metadata": {},
   "outputs": [],
   "source": [
    "# method to get data\n",
    "def getData():\n",
    "    # training set and test set tuples. then call method to load data  \n",
    "    (X_train, Y_train), (X_test, Y_test) = mnist.load_data() \n",
    "    # specify width and height of image\n",
    "    img_rows, img_cols = 28, 28\n",
    "    \n",
    "    # encode labels \n",
    "    Y_train = to_categorical(Y_train, num_classes=10)\n",
    "    Y_test = to_categorical(Y_test, num_classes=10)\n",
    "    \n",
    "    # reshape\n",
    "    X_train = X_train.reshape(X_train.shape[0], img_rows, img_cols, 1)\n",
    "    X_test = X_test.reshape(X_test.shape[0], img_rows, img_cols, 1)\n",
    "    \n",
    "    # reshape it back because matplotlib wants a vector\n",
    "    plt.imshow(X_train[0][:,:,0])\n",
    "    # show graph\n",
    "    plt.show()\n",
    "    \n",
    "    # return the data\n",
    "    return X_train, Y_train, X_test, Y_test\n",
    "\n",
    "# call the data\n",
    "#getData()\n",
    "   \n",
    "    "
   ]
  },
  {
   "cell_type": "code",
   "execution_count": null,
   "metadata": {},
   "outputs": [],
   "source": [
    "def trainModel(X_train, Y_train, X_test, Y_test):\n",
    "    # tells keras how much data it should take in at once\n",
    "    batch_size = 64\n",
    "    # how many times to train on the full data\n",
    "    epochs = 15\n",
    "    \n",
    "    # create model by calling sequential method\n",
    "    model = Sequential()\n",
    "    \n",
    "    # FEATURE EXTRACTION\n",
    "    # two convoluted layers w/ 32 filters each & window size of 5,5\n",
    "    # input size set of first layer\n",
    "    model.add(Conv2D(filters=32, kernel_size=(5,5), activation='relu', input_shape=(28,28,1)))\n",
    "    model.add(Conv2D(filters=32, kernel_size=(5,5), activation='relu'))\n",
    "    # specify pooling layer\n",
    "    model.add(MaxPool2D(pool_size=(2,2)))\n",
    "    # droput layer @ 25% of neurals randomly\n",
    "    model.add(Dropout(rate=0.25))\n",
    "    \n",
    "    # two more convoluted layers w/ 64 filters each and window size 3,3\n",
    "    model.add(Conv2D(filters=64, kernel_size=(3,3), activation='relu'))\n",
    "    model.add(Conv2D(filters=64, kernel_size=(3,3), activation='relu'))\n",
    "    model.add(MaxPool2D(pool_size=(2,2)))\n",
    "    model.add(Dropout(rate=0.25))\n",
    "    \n",
    "    # Flatten output\n",
    "    model.add(Flatten())\n",
    "    # fully connected layer\n",
    "    model.add(Dense(256, activation='relu'))\n",
    "    # 50% dropout rate\n",
    "    model.add(Dropout(rate=0.5))\n",
    "    # fully connected layer for every digit 0...9\n",
    "    # softmax function gives probability back\n",
    "    model.add(Dense(10, activation='softmax'))\n",
    "    \n",
    "    optimizer = RMSprop(lr=0.001)\n",
    "    learning_rate_reduction = ReduceLROnPlateau(monitor='val_acc', patience=3, verbose=1, factor=0.5, min_lr=0.00001)\n",
    "    \n",
    "    datagen = ImageDataGenerator(\n",
    "            rotation_range=10,\n",
    "            zoom_range=0.1,\n",
    "            width_shift_range=0.1,\n",
    "            height_shift_range=0.1)\n",
    "    \n",
    "   # compiling and training the model\n",
    "    model.compile(loss='categorical_crossentropy', optimizer=optimizer, metrics=['accuracy'])\n",
    "    \n",
    "    # use fit_generator because imagedatagenerator was used\n",
    "    # call datagen.flow to get data\n",
    "    history = model.fit_generator(datagen.flow(X_train, y_train, batch_size=batch_size), epochs=epochs,\n",
    "                                  # verbose used to print something to the console\n",
    "                                  validation_data=(X_test, y_test), verbose=2,\n",
    "                                  steps_per_epoch=X_train.shape[0]//batch_size,\n",
    "                                  callbacks=[learning_rate_reduction])\n",
    "    # saving the model\n",
    "    # model_json saves the structure from trainmodel method\n",
    "    model_json = model.to_json()\n",
    "    # saves the model to this file\n",
    "    with open('model.json', 'w') as json_file:\n",
    "        json_file.write(model_json)\n",
    "        # saves it as this\n",
    "    model.save_weights('mnist_model.h5')\n",
    "    return model\n",
    "\n",
    "def loadModel():\n",
    "    # loads the structure of the model\n",
    "    json_file = open('model.json', 'r')\n",
    "    model_json = json_file.read()\n",
    "    json_file.close()\n",
    "    # creates the model\n",
    "    model = model_from_json(model_json)\n",
    "    # loads the weights\n",
    "    model.load_weights(\"mnist_model.h5\")\n",
    "    return model\n",
    "\n",
    "    X_train, y_train, X_test, y_test = getData()\n",
    "\n",
    "    # checks if the model exists. it it does, load it. if not, it needs to be trained.\n",
    "    if(not os.path.exists('mnist_model.h5')):\n",
    "        model = trainModel(X_train, y_train, X_test, y_test)\n",
    "        print('trained model')\n",
    "        print(model.summary())\n",
    "    else:\n",
    "        model = loadModel()\n",
    "        print('loaded model')\n",
    "        print(model.summary())"
   ]
  },
  {
   "cell_type": "code",
   "execution_count": 48,
   "metadata": {},
   "outputs": [
    {
     "data": {
      "image/png": "[encoded data removed]",
      "text/plain": [
       "<Figure size 432x288 with 1 Axes>"
      ]
     },
     "metadata": {
      "needs_background": "light"
     },
     "output_type": "display_data"
    },
    {
     "ename": "AttributeError",
     "evalue": "'function' object has no attribute 'generator'",
     "output_type": "error",
     "traceback": [
      "\u001b[0;31m---------------------------------------------------------------------------\u001b[0m",
      "\u001b[0;31mAttributeError\u001b[0m                            Traceback (most recent call last)",
      "\u001b[0;32m<ipython-input-48-cfd1f68aec53>\u001b[0m in \u001b[0;36m<module>\u001b[0;34m\u001b[0m\n\u001b[1;32m     11\u001b[0m \u001b[0;34m\u001b[0m\u001b[0m\n\u001b[1;32m     12\u001b[0m \u001b[0;32mif\u001b[0m\u001b[0;34m(\u001b[0m\u001b[0;32mnot\u001b[0m \u001b[0mos\u001b[0m\u001b[0;34m.\u001b[0m\u001b[0mpath\u001b[0m\u001b[0;34m.\u001b[0m\u001b[0mexists\u001b[0m\u001b[0;34m(\u001b[0m\u001b[0;34m'mnist_model.h5'\u001b[0m\u001b[0;34m)\u001b[0m\u001b[0;34m)\u001b[0m\u001b[0;34m:\u001b[0m\u001b[0;34m\u001b[0m\u001b[0;34m\u001b[0m\u001b[0m\n\u001b[0;32m---> 13\u001b[0;31m     \u001b[0mmodel\u001b[0m \u001b[0;34m=\u001b[0m \u001b[0mtrainModel\u001b[0m\u001b[0;34m(\u001b[0m\u001b[0mX_train\u001b[0m\u001b[0;34m,\u001b[0m \u001b[0mY_train\u001b[0m\u001b[0;34m,\u001b[0m \u001b[0mX_test\u001b[0m\u001b[0;34m,\u001b[0m \u001b[0mY_test\u001b[0m\u001b[0;34m)\u001b[0m\u001b[0;34m\u001b[0m\u001b[0;34m\u001b[0m\u001b[0m\n\u001b[0m\u001b[1;32m     14\u001b[0m     \u001b[0mprint\u001b[0m\u001b[0;34m(\u001b[0m\u001b[0;34m'trained model'\u001b[0m\u001b[0;34m)\u001b[0m\u001b[0;34m\u001b[0m\u001b[0;34m\u001b[0m\u001b[0m\n\u001b[1;32m     15\u001b[0m     \u001b[0mprint\u001b[0m\u001b[0;34m(\u001b[0m\u001b[0mmodel\u001b[0m\u001b[0;34m.\u001b[0m\u001b[0msummary\u001b[0m\u001b[0;34m(\u001b[0m\u001b[0;34m)\u001b[0m\u001b[0;34m)\u001b[0m\u001b[0;34m\u001b[0m\u001b[0;34m\u001b[0m\u001b[0m\n",
      "\u001b[0;32m<ipython-input-47-997b0f3889d2>\u001b[0m in \u001b[0;36mtrainModel\u001b[0;34m(X_train, Y_train, X_test, Y_test)\u001b[0m\n\u001b[1;32m     45\u001b[0m     \u001b[0mmodel\u001b[0m\u001b[0;34m.\u001b[0m\u001b[0mcompile\u001b[0m\u001b[0;34m(\u001b[0m\u001b[0mloss\u001b[0m\u001b[0;34m=\u001b[0m\u001b[0;34m'categorical_crossentropy'\u001b[0m\u001b[0;34m,\u001b[0m \u001b[0moptimizer\u001b[0m\u001b[0;34m=\u001b[0m\u001b[0moptimizer\u001b[0m\u001b[0;34m,\u001b[0m \u001b[0mmetrics\u001b[0m\u001b[0;34m=\u001b[0m\u001b[0;34m[\u001b[0m\u001b[0;34m'accuracy'\u001b[0m\u001b[0;34m]\u001b[0m\u001b[0;34m)\u001b[0m\u001b[0;34m\u001b[0m\u001b[0;34m\u001b[0m\u001b[0m\n\u001b[1;32m     46\u001b[0m \u001b[0;34m\u001b[0m\u001b[0m\n\u001b[0;32m---> 47\u001b[0;31m     history = model.fit.generator(datagen.flow(X_train, Y_train, batch_size=batch_size), epochs=epochs,\n\u001b[0m\u001b[1;32m     48\u001b[0m                                     \u001b[0mvalidation_data\u001b[0m\u001b[0;34m=\u001b[0m\u001b[0;34m(\u001b[0m\u001b[0mX_test\u001b[0m\u001b[0;34m,\u001b[0m \u001b[0mY_test\u001b[0m\u001b[0;34m)\u001b[0m\u001b[0;34m,\u001b[0m \u001b[0mverbose\u001b[0m\u001b[0;34m=\u001b[0m\u001b[0;36m2\u001b[0m\u001b[0;34m,\u001b[0m\u001b[0;34m\u001b[0m\u001b[0;34m\u001b[0m\u001b[0m\n\u001b[1;32m     49\u001b[0m                                     \u001b[0msteps_per_epoch\u001b[0m\u001b[0;34m=\u001b[0m\u001b[0mX_train\u001b[0m\u001b[0;34m.\u001b[0m\u001b[0mshape\u001b[0m\u001b[0;34m[\u001b[0m\u001b[0;36m0\u001b[0m\u001b[0;34m]\u001b[0m\u001b[0;34m//\u001b[0m\u001b[0mbatch_size\u001b[0m\u001b[0;34m,\u001b[0m\u001b[0;34m\u001b[0m\u001b[0;34m\u001b[0m\u001b[0m\n",
      "\u001b[0;31mAttributeError\u001b[0m: 'function' object has no attribute 'generator'"
     ]
    }
   ],
   "source": []
  },
  {
   "cell_type": "code",
   "execution_count": null,
   "metadata": {},
   "outputs": [],
   "source": []
  },
  {
   "cell_type": "code",
   "execution_count": null,
   "metadata": {},
   "outputs": [],
   "source": []
  }
 ],
 "metadata": {
  "kernelspec": {
   "display_name": "Python 3",
   "language": "python",
   "name": "python3"
  },
  "language_info": {
   "codemirror_mode": {
    "name": "ipython",
    "version": 3
   },
   "file_extension": ".py",
   "mimetype": "text/x-python",
   "name": "python",
   "nbconvert_exporter": "python",
   "pygments_lexer": "ipython3",
   "version": "3.6.8"
  }
 },
 "nbformat": 4,
 "nbformat_minor": 2
}
